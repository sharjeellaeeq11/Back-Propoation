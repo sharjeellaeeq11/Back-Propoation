{
  "nbformat": 4,
  "nbformat_minor": 0,
  "metadata": {
    "colab": {
      "provenance": []
    },
    "kernelspec": {
      "name": "python3",
      "display_name": "Python 3"
    },
    "language_info": {
      "name": "python"
    }
  },
  "cells": [
    {
      "cell_type": "code",
      "execution_count": 48,
      "metadata": {
        "id": "tZXiEadDvC1L"
      },
      "outputs": [],
      "source": [
        "import math\n",
        "import random\n",
        "import numpy as np\n",
        "import matplotlib.pyplot as plt\n",
        "# This command ensures the plots are plotted just below the code that generates them\n",
        "%matplotlib inline"
      ]
    },
    {
      "cell_type": "markdown",
      "source": [
        "# Training Neural Network From Scratch\n",
        "\n",
        "In this project we will construct a neural network without using any external libraries to understand what is going undet the hood. We will follow the following order:\n",
        "\n",
        "## Step 1: Understand the math | Calculus\n",
        "\n",
        "We will understand how we can use calculus to quantify how sensitive a function is relative to the change in its input. Simply put if change the input by a small amount how much does and in what direction does the function change.\n",
        "\n",
        "## Step 2: Back Propogation & Forward Pass\n",
        "\n",
        "We will use a computational graph to run forward pass and then run backpropation and interpret the multiplication and addition gates in the computational graph. We will run the forward and back prop on a single neuron.\n",
        "\n",
        "## Step 3: Two Layer Multilayer Perceptron\n",
        "\n",
        "We will create a two layer multilayer perceptron using the hyperolic tangent non-linearity tanh and train it on a L2 loss function using gradient descent."
      ],
      "metadata": {
        "id": "al3vKNx6DcN3"
      }
    },
    {
      "cell_type": "markdown",
      "source": [
        "# Step 1: The math | Calculus\n",
        "\n",
        "Let f(x) be a function of x. The derivative of f(x) with respect to x tell us how sensitive it is to x, in other words if we change x slightly how much does the output changes. Lets look at an example of the following quadratic function which we will perturb by a small amount h. $$x^2 + 2x + 4$$\n",
        "Derivatives can be applied to functions with multiple inputs as well.\n"
      ],
      "metadata": {
        "id": "JlKmcBKkyF72"
      }
    },
    {
      "cell_type": "code",
      "source": [
        "def func(x):\n",
        "  return x**2 + 2*x + 4\n",
        "\n",
        "h = 0.0001\n",
        "x = 3\n",
        "print(f\"The value of the function at x = 3 is {func(x)} units\")\n",
        "print(f\"The value of the function at x + h = 3.0001 is {func(x+h)} units\")\n",
        "#defination of derivative\n",
        "der = (func(x+h) - func(x)) / h\n",
        "print(f\"\\nThe derivative of the function is {der} which means that if you perturb x by 1 unit you will change the response by 1 x 8 = 8 units\\n\")\n",
        "\n",
        "# Lets plot our function for visualization\n",
        "xs = np.arange(-6,6,0.2)\n",
        "ys = func(xs)\n",
        "plt.plot(xs,ys)\n"
      ],
      "metadata": {
        "colab": {
          "base_uri": "https://localhost:8080/",
          "height": 534
        },
        "id": "jx-wfA9uv5Wq",
        "outputId": "efcd92b7-d3a3-423c-df4e-87724001398c"
      },
      "execution_count": 49,
      "outputs": [
        {
          "output_type": "stream",
          "name": "stdout",
          "text": [
            "The value of the function at x = 3 is 19 units\n",
            "The value of the function at x + h = 3.0001 is 19.000800010000003 units\n",
            "\n",
            "The derivative of the function is 8.000100000025157 which means that if you perturb x by 1 unit you will change the response by 1 x 8 = 8 units\n",
            "\n"
          ]
        },
        {
          "output_type": "execute_result",
          "data": {
            "text/plain": [
              "[<matplotlib.lines.Line2D at 0x7f000c4803a0>]"
            ]
          },
          "metadata": {},
          "execution_count": 49
        },
        {
          "output_type": "display_data",
          "data": {
            "text/plain": [
              "<Figure size 640x480 with 1 Axes>"
            ],
            "image/png": "[encoded data removed]"
          },
          "metadata": {}
        }
      ]
    },
    {
      "cell_type": "markdown",
      "source": [
        "#Step 2: Back Propogation & Forward Pass\n",
        "You can analytically find the derivative of any expression using the limit defination of the derivative. But when working with neural networks (NN) finding the analytical derivative is extrememly laborious. This problem is solved by transforming the function into a computational graph and then solving the derivatives of smaller nodes recursively. This is called Back Propogation and it is at the core of how NN models learn.\n",
        "\n",
        "## Forward Pass\n",
        "This is simply evaluating our functions on some values\n",
        "\n",
        "## Back Propogation\n",
        "This the recursive step of evaluting derivative using the chain rule."
      ],
      "metadata": {
        "id": "By2bM3Z-FmjD"
      }
    },
    {
      "cell_type": "code",
      "source": [
        "class Value:\n",
        "\n",
        "  def __init__(self, data, _children=(), _op='', label=''):\n",
        "    self.data = data\n",
        "    self.grad = 0.0\n",
        "    self._backward = lambda: None\n",
        "    self._prev = set(_children)\n",
        "    self._op = _op\n",
        "    self.label = label\n",
        "\n",
        "  def __repr__(self):\n",
        "    return f\"Value(data={self.data})\"\n",
        "\n",
        "  def __add__(self, other):\n",
        "    other = other if isinstance(other, Value) else Value(other)\n",
        "    out = Value(self.data + other.data, (self, other), '+')\n",
        "\n",
        "    def _backward():\n",
        "      self.grad += 1.0 * out.grad # using += becasuse of the bug\n",
        "      other.grad += 1.0 * out.grad\n",
        "    out._backward = _backward\n",
        "\n",
        "    return out\n",
        "\n",
        "  def __mul__(self, other):\n",
        "    other = other if isinstance(other, Value) else Value(other)\n",
        "    out = Value(self.data * other.data, (self, other), '*')\n",
        "\n",
        "    def _backward():\n",
        "      self.grad += other.data * out.grad\n",
        "      other.grad += self.data * out.grad\n",
        "    out._backward = _backward\n",
        "\n",
        "    return out\n",
        "\n",
        "  def __pow__(self, other):\n",
        "    assert isinstance(other, (int, float))\n",
        "    out = Value(self.data**other, (self,), f'**{other}')\n",
        "\n",
        "    def _backward():\n",
        "        self.grad += other * (self.data ** (other - 1)) * out.grad\n",
        "    out._backward = _backward\n",
        "\n",
        "    return out\n",
        "\n",
        "  def __rmul__(self, other):\n",
        "    return self * other\n",
        "\n",
        "  def __truediv__(self, other):\n",
        "    return self * other**-1\n",
        "\n",
        "  def __neg__(self):\n",
        "    return self * -1\n",
        "\n",
        "  def __sub__(self, other):\n",
        "    return self + (-other)\n",
        "\n",
        "  def __radd__(self, other):\n",
        "    return self + other\n",
        "\n",
        "  def tanh(self):\n",
        "    x = self.data\n",
        "    t = (math.exp(2*x) - 1)/(math.exp(2*x) + 1)\n",
        "    out = Value(t, (self, ), 'tanh')\n",
        "\n",
        "    def _backward():\n",
        "      self.grad += (1 - t**2) * out.grad\n",
        "    out._backward = _backward\n",
        "\n",
        "    return out\n",
        "\n",
        "  def exp(self):\n",
        "    x = self.data\n",
        "    out = Value(math.exp(x), (self, ), 'exp')\n",
        "\n",
        "    def _backward():\n",
        "      self.grad += out.data * out.grad\n",
        "    out._backward = _backward\n",
        "\n",
        "    return out\n",
        "\n",
        "\n",
        "  def backward(self):\n",
        "\n",
        "    topo = []\n",
        "    visited = set()\n",
        "    def build_topo(v):\n",
        "      if v not in visited:\n",
        "        visited.add(v)\n",
        "        for child in v._prev:\n",
        "          build_topo(child)\n",
        "        topo.append(v)\n",
        "    build_topo(self)\n",
        "\n",
        "    self.grad = 1.0\n",
        "    for node in reversed(topo):\n",
        "      node._backward()\n"
      ],
      "metadata": {
        "id": "1oca64Y3vHEM"
      },
      "execution_count": 50,
      "outputs": []
    },
    {
      "cell_type": "markdown",
      "source": [
        "#Computational Graph\n",
        "We will use the graphviz API to visualize our computational graph"
      ],
      "metadata": {
        "id": "K1wCiOuRNjPi"
      }
    },
    {
      "cell_type": "code",
      "source": [
        "from graphviz import Digraph\n",
        "\n",
        "def trace(root):\n",
        "\n",
        "  nodes, edges = set(), set()\n",
        "  def build(v):\n",
        "    if v not in nodes:\n",
        "      nodes.add(v)\n",
        "      for child in v._prev:\n",
        "        edges.add((child, v))\n",
        "        build(child)\n",
        "  build(root)\n",
        "  return nodes, edges\n",
        "\n",
        "def draw_dot(root):\n",
        "  dot = Digraph(format='svg', graph_attr={'rankdir': 'LR'}) # LR = left to right\n",
        "\n",
        "  nodes, edges = trace(root)\n",
        "  for n in nodes:\n",
        "    uid = str(id(n))\n",
        "    dot.node(name = uid, label = \"{ %s | data %.4f | grad %.4f }\" % (n.label, n.data, n.grad), shape='record')\n",
        "    if n._op:\n",
        "      dot.node(name = uid + n._op, label = n._op)\n",
        "      dot.edge(uid + n._op, uid)\n",
        "\n",
        "  for n1, n2 in edges:\n",
        "    dot.edge(str(id(n1)), str(id(n2)) + n2._op)\n",
        "\n",
        "  return dot"
      ],
      "metadata": {
        "id": "j1JQhjKDNzus"
      },
      "execution_count": 51,
      "outputs": []
    },
    {
      "cell_type": "markdown",
      "source": [
        "## Forward Pass"
      ],
      "metadata": {
        "id": "KQbU4PF3nh0t"
      }
    },
    {
      "cell_type": "markdown",
      "source": [
        "## Back Propogation\n",
        "\n",
        "In back propgation when we break up a function in its atomic level by just using\n",
        "\"+\" and \"*\". Addition has an interpretation of just distributing a the derivative and the multiplication has an interpretation of switching and scaling the derivative."
      ],
      "metadata": {
        "id": "aWC8O0D3nwxF"
      }
    },
    {
      "cell_type": "markdown",
      "source": [
        "## Back Propogation on a single Neruron\n",
        "We will use the tanh as our activation function. Tanh has a good property of being 0 mean."
      ],
      "metadata": {
        "id": "-kUJVsBWz7md"
      }
    },
    {
      "cell_type": "code",
      "source": [
        "#inputs\n",
        "x1 = Value(2.0, label = 'x1')\n",
        "x2 = Value(0.0, label = 'x2')\n",
        "#weights\n",
        "w1 = Value(-3.0, label = 'w1')\n",
        "w2 = Value(1.0, label = 'w2')\n",
        "#bias\n",
        "b = Value(6.88, label = 'b')\n",
        "\n",
        "x1w1 = x1*w1; x1w1.label = 'x1*w1'\n",
        "x2w2 = x2*w2; x2w2.label = 'x2*w2'\n",
        "x1w1x2w2 = x1w1 + x2w2; x1w1x2w2.label = 'x1*w1 + x2*w2'\n",
        "n = x1w1x2w2 + b; n.label = 'n'\n",
        "o = n.tanh(); o.label = 'o'\n",
        "draw_dot(o) # This will graph the forward pass\n",
        "\n"
      ],
      "metadata": {
        "id": "HhHp3uyc0Bli",
        "colab": {
          "base_uri": "https://localhost:8080/",
          "height": 321
        },
        "outputId": "08402f4b-5f45-435e-bb51-f418149a1d1a"
      },
      "execution_count": 52,
      "outputs": [
        {
          "output_type": "execute_result",
          "data": {
            "image/svg+xml": "<?xml version=\"1.0\" encoding=\"UTF-8\" standalone=\"no\"?>\n<!DOCTYPE svg PUBLIC \"-//W3C//DTD SVG 1.1//EN\"\n \"http://www.w3.org/Graphics/SVG/1.1/DTD/svg11.dtd\">\n<!-- Generated by graphviz version 2.43.0 (0)\n -->\n<!-- Title: %3 Pages: 1 -->\n<svg width=\"1575pt\" height=\"210pt\"\n viewBox=\"0.00 0.00 1575.00 210.00\" xmlns=\"http://www.w3.org/2000/svg\" xmlns:xlink=\"http://www.w3.org/1999/xlink\">\n<g id=\"graph0\" class=\"graph\" transform=\"scale(1 1) rotate(0) translate(4 206)\">\n<title>%3</title>\n<polygon fill=\"white\" stroke=\"transparent\" points=\"-4,4 -4,-206 1571,-206 1571,4 -4,4\"/>\n<!-- 139638183122432 -->\n<g id=\"node1\" class=\"node\">\n<title>139638183122432</title>\n<polygon fill=\"none\" stroke=\"black\" points=\"1071,-109.5 1071,-145.5 1256,-145.5 1256,-109.5 1071,-109.5\"/>\n<text text-anchor=\"middle\" x=\"1082.5\" y=\"-123.8\" font-family=\"Times,serif\" font-size=\"14.00\">n</text>\n<polyline fill=\"none\" stroke=\"black\" points=\"1094,-109.5 1094,-145.5 \"/>\n<text text-anchor=\"middle\" x=\"1134\" y=\"-123.8\" font-family=\"Times,serif\" font-size=\"14.00\">data 0.8800</text>\n<polyline fill=\"none\" stroke=\"black\" points=\"1174,-109.5 1174,-145.5 \"/>\n<text text-anchor=\"middle\" x=\"1215\" y=\"-123.8\" font-family=\"Times,serif\" font-size=\"14.00\">grad 0.0000</text>\n</g>\n<!-- 139638183133040tanh -->\n<g id=\"node8\" class=\"node\">\n<title>139638183133040tanh</title>\n<ellipse fill=\"none\" stroke=\"black\" cx=\"1319\" cy=\"-127.5\" rx=\"27\" ry=\"18\"/>\n<text text-anchor=\"middle\" x=\"1319\" y=\"-123.8\" font-family=\"Times,serif\" font-size=\"14.00\">tanh</text>\n</g>\n<!-- 139638183122432&#45;&gt;139638183133040tanh -->\n<g id=\"edge11\" class=\"edge\">\n<title>139638183122432&#45;&gt;139638183133040tanh</title>\n<path fill=\"none\" stroke=\"black\" d=\"M1256.01,-127.5C1265.01,-127.5 1273.74,-127.5 1281.66,-127.5\"/>\n<polygon fill=\"black\" stroke=\"black\" points=\"1281.91,-131 1291.91,-127.5 1281.91,-124 1281.91,-131\"/>\n</g>\n<!-- 139638183122432+ -->\n<g id=\"node2\" class=\"node\">\n<title>139638183122432+</title>\n<ellipse fill=\"none\" stroke=\"black\" cx=\"1008\" cy=\"-127.5\" rx=\"27\" ry=\"18\"/>\n<text text-anchor=\"middle\" x=\"1008\" y=\"-123.8\" font-family=\"Times,serif\" font-size=\"14.00\">+</text>\n</g>\n<!-- 139638183122432+&#45;&gt;139638183122432 -->\n<g id=\"edge1\" class=\"edge\">\n<title>139638183122432+&#45;&gt;139638183122432</title>\n<path fill=\"none\" stroke=\"black\" d=\"M1035.04,-127.5C1042.58,-127.5 1051.3,-127.5 1060.57,-127.5\"/>\n<polygon fill=\"black\" stroke=\"black\" points=\"1060.81,-131 1070.81,-127.5 1060.81,-124 1060.81,-131\"/>\n</g>\n<!-- 139638183127040 -->\n<g id=\"node3\" class=\"node\">\n<title>139638183127040</title>\n<polygon fill=\"none\" stroke=\"black\" points=\"326,-110.5 326,-146.5 546,-146.5 546,-110.5 326,-110.5\"/>\n<text text-anchor=\"middle\" x=\"352.5\" y=\"-124.8\" font-family=\"Times,serif\" font-size=\"14.00\">x1*w1</text>\n<polyline fill=\"none\" stroke=\"black\" points=\"379,-110.5 379,-146.5 \"/>\n<text text-anchor=\"middle\" x=\"421.5\" y=\"-124.8\" font-family=\"Times,serif\" font-size=\"14.00\">data &#45;6.0000</text>\n<polyline fill=\"none\" stroke=\"black\" points=\"464,-110.5 464,-146.5 \"/>\n<text text-anchor=\"middle\" x=\"505\" y=\"-124.8\" font-family=\"Times,serif\" font-size=\"14.00\">grad 0.0000</text>\n</g>\n<!-- 139638183122384+ -->\n<g id=\"node12\" class=\"node\">\n<title>139638183122384+</title>\n<ellipse fill=\"none\" stroke=\"black\" cx=\"609\" cy=\"-100.5\" rx=\"27\" ry=\"18\"/>\n<text text-anchor=\"middle\" x=\"609\" y=\"-96.8\" font-family=\"Times,serif\" font-size=\"14.00\">+</text>\n</g>\n<!-- 139638183127040&#45;&gt;139638183122384+ -->\n<g id=\"edge10\" class=\"edge\">\n<title>139638183127040&#45;&gt;139638183122384+</title>\n<path fill=\"none\" stroke=\"black\" d=\"M546.27,-110.61C555.64,-109.07 564.6,-107.61 572.65,-106.29\"/>\n<polygon fill=\"black\" stroke=\"black\" points=\"573.35,-109.72 582.65,-104.65 572.22,-102.81 573.35,-109.72\"/>\n</g>\n<!-- 139638183127040* -->\n<g id=\"node4\" class=\"node\">\n<title>139638183127040*</title>\n<ellipse fill=\"none\" stroke=\"black\" cx=\"263\" cy=\"-128.5\" rx=\"27\" ry=\"18\"/>\n<text text-anchor=\"middle\" x=\"263\" y=\"-124.8\" font-family=\"Times,serif\" font-size=\"14.00\">*</text>\n</g>\n<!-- 139638183127040*&#45;&gt;139638183127040 -->\n<g id=\"edge2\" class=\"edge\">\n<title>139638183127040*&#45;&gt;139638183127040</title>\n<path fill=\"none\" stroke=\"black\" d=\"M290.34,-128.5C297.77,-128.5 306.37,-128.5 315.6,-128.5\"/>\n<polygon fill=\"black\" stroke=\"black\" points=\"315.84,-132 325.84,-128.5 315.84,-125 315.84,-132\"/>\n</g>\n<!-- 139638183121376 -->\n<g id=\"node5\" class=\"node\">\n<title>139638183121376</title>\n<polygon fill=\"none\" stroke=\"black\" points=\"716,-137.5 716,-173.5 901,-173.5 901,-137.5 716,-137.5\"/>\n<text text-anchor=\"middle\" x=\"727.5\" y=\"-151.8\" font-family=\"Times,serif\" font-size=\"14.00\">b</text>\n<polyline fill=\"none\" stroke=\"black\" points=\"739,-137.5 739,-173.5 \"/>\n<text text-anchor=\"middle\" x=\"779\" y=\"-151.8\" font-family=\"Times,serif\" font-size=\"14.00\">data 6.8800</text>\n<polyline fill=\"none\" stroke=\"black\" points=\"819,-137.5 819,-173.5 \"/>\n<text text-anchor=\"middle\" x=\"860\" y=\"-151.8\" font-family=\"Times,serif\" font-size=\"14.00\">grad 0.0000</text>\n</g>\n<!-- 139638183121376&#45;&gt;139638183122432+ -->\n<g id=\"edge14\" class=\"edge\">\n<title>139638183121376&#45;&gt;139638183122432+</title>\n<path fill=\"none\" stroke=\"black\" d=\"M901.02,-142.52C926,-138.98 951.59,-135.36 971.37,-132.55\"/>\n<polygon fill=\"black\" stroke=\"black\" points=\"972.03,-135.99 981.43,-131.12 971.04,-129.06 972.03,-135.99\"/>\n</g>\n<!-- 139638183124832 -->\n<g id=\"node6\" class=\"node\">\n<title>139638183124832</title>\n<polygon fill=\"none\" stroke=\"black\" points=\"4,-55.5 4,-91.5 196,-91.5 196,-55.5 4,-55.5\"/>\n<text text-anchor=\"middle\" x=\"19\" y=\"-69.8\" font-family=\"Times,serif\" font-size=\"14.00\">x2</text>\n<polyline fill=\"none\" stroke=\"black\" points=\"34,-55.5 34,-91.5 \"/>\n<text text-anchor=\"middle\" x=\"74\" y=\"-69.8\" font-family=\"Times,serif\" font-size=\"14.00\">data 0.0000</text>\n<polyline fill=\"none\" stroke=\"black\" points=\"114,-55.5 114,-91.5 \"/>\n<text text-anchor=\"middle\" x=\"155\" y=\"-69.8\" font-family=\"Times,serif\" font-size=\"14.00\">grad 0.0000</text>\n</g>\n<!-- 139638183121904* -->\n<g id=\"node15\" class=\"node\">\n<title>139638183121904*</title>\n<ellipse fill=\"none\" stroke=\"black\" cx=\"263\" cy=\"-73.5\" rx=\"27\" ry=\"18\"/>\n<text text-anchor=\"middle\" x=\"263\" y=\"-69.8\" font-family=\"Times,serif\" font-size=\"14.00\">*</text>\n</g>\n<!-- 139638183124832&#45;&gt;139638183121904* -->\n<g id=\"edge6\" class=\"edge\">\n<title>139638183124832&#45;&gt;139638183121904*</title>\n<path fill=\"none\" stroke=\"black\" d=\"M196.05,-73.5C206.52,-73.5 216.65,-73.5 225.71,-73.5\"/>\n<polygon fill=\"black\" stroke=\"black\" points=\"225.79,-77 235.79,-73.5 225.79,-70 225.79,-77\"/>\n</g>\n<!-- 139638183133040 -->\n<g id=\"node7\" class=\"node\">\n<title>139638183133040</title>\n<polygon fill=\"none\" stroke=\"black\" points=\"1382,-109.5 1382,-145.5 1567,-145.5 1567,-109.5 1382,-109.5\"/>\n<text text-anchor=\"middle\" x=\"1393.5\" y=\"-123.8\" font-family=\"Times,serif\" font-size=\"14.00\">o</text>\n<polyline fill=\"none\" stroke=\"black\" points=\"1405,-109.5 1405,-145.5 \"/>\n<text text-anchor=\"middle\" x=\"1445\" y=\"-123.8\" font-family=\"Times,serif\" font-size=\"14.00\">data 0.7064</text>\n<polyline fill=\"none\" stroke=\"black\" points=\"1485,-109.5 1485,-145.5 \"/>\n<text text-anchor=\"middle\" x=\"1526\" y=\"-123.8\" font-family=\"Times,serif\" font-size=\"14.00\">grad 0.0000</text>\n</g>\n<!-- 139638183133040tanh&#45;&gt;139638183133040 -->\n<g id=\"edge3\" class=\"edge\">\n<title>139638183133040tanh&#45;&gt;139638183133040</title>\n<path fill=\"none\" stroke=\"black\" d=\"M1346.04,-127.5C1353.58,-127.5 1362.3,-127.5 1371.57,-127.5\"/>\n<polygon fill=\"black\" stroke=\"black\" points=\"1371.81,-131 1381.81,-127.5 1371.81,-124 1371.81,-131\"/>\n</g>\n<!-- 139638183129440 -->\n<g id=\"node9\" class=\"node\">\n<title>139638183129440</title>\n<polygon fill=\"none\" stroke=\"black\" points=\"2.5,-0.5 2.5,-36.5 197.5,-36.5 197.5,-0.5 2.5,-0.5\"/>\n<text text-anchor=\"middle\" x=\"19\" y=\"-14.8\" font-family=\"Times,serif\" font-size=\"14.00\">w2</text>\n<polyline fill=\"none\" stroke=\"black\" points=\"35.5,-0.5 35.5,-36.5 \"/>\n<text text-anchor=\"middle\" x=\"75.5\" y=\"-14.8\" font-family=\"Times,serif\" font-size=\"14.00\">data 1.0000</text>\n<polyline fill=\"none\" stroke=\"black\" points=\"115.5,-0.5 115.5,-36.5 \"/>\n<text text-anchor=\"middle\" x=\"156.5\" y=\"-14.8\" font-family=\"Times,serif\" font-size=\"14.00\">grad 0.0000</text>\n</g>\n<!-- 139638183129440&#45;&gt;139638183121904* -->\n<g id=\"edge7\" class=\"edge\">\n<title>139638183129440&#45;&gt;139638183121904*</title>\n<path fill=\"none\" stroke=\"black\" d=\"M169.28,-36.5C179.65,-39.61 190.16,-42.98 200,-46.5 210.28,-50.17 221.28,-54.74 231.11,-59.07\"/>\n<polygon fill=\"black\" stroke=\"black\" points=\"229.93,-62.37 240.48,-63.27 232.79,-55.99 229.93,-62.37\"/>\n</g>\n<!-- 139638183129008 -->\n<g id=\"node10\" class=\"node\">\n<title>139638183129008</title>\n<polygon fill=\"none\" stroke=\"black\" points=\"0,-165.5 0,-201.5 200,-201.5 200,-165.5 0,-165.5\"/>\n<text text-anchor=\"middle\" x=\"16.5\" y=\"-179.8\" font-family=\"Times,serif\" font-size=\"14.00\">w1</text>\n<polyline fill=\"none\" stroke=\"black\" points=\"33,-165.5 33,-201.5 \"/>\n<text text-anchor=\"middle\" x=\"75.5\" y=\"-179.8\" font-family=\"Times,serif\" font-size=\"14.00\">data &#45;3.0000</text>\n<polyline fill=\"none\" stroke=\"black\" points=\"118,-165.5 118,-201.5 \"/>\n<text text-anchor=\"middle\" x=\"159\" y=\"-179.8\" font-family=\"Times,serif\" font-size=\"14.00\">grad 0.0000</text>\n</g>\n<!-- 139638183129008&#45;&gt;139638183127040* -->\n<g id=\"edge9\" class=\"edge\">\n<title>139638183129008&#45;&gt;139638183127040*</title>\n<path fill=\"none\" stroke=\"black\" d=\"M172.53,-165.44C181.84,-162.67 191.2,-159.67 200,-156.5 210.53,-152.71 221.75,-147.9 231.72,-143.33\"/>\n<polygon fill=\"black\" stroke=\"black\" points=\"233.25,-146.48 240.82,-139.07 230.28,-140.14 233.25,-146.48\"/>\n</g>\n<!-- 139638183122384 -->\n<g id=\"node11\" class=\"node\">\n<title>139638183122384</title>\n<polygon fill=\"none\" stroke=\"black\" points=\"672,-82.5 672,-118.5 945,-118.5 945,-82.5 672,-82.5\"/>\n<text text-anchor=\"middle\" x=\"725\" y=\"-96.8\" font-family=\"Times,serif\" font-size=\"14.00\">x1*w1 + x2*w2</text>\n<polyline fill=\"none\" stroke=\"black\" points=\"778,-82.5 778,-118.5 \"/>\n<text text-anchor=\"middle\" x=\"820.5\" y=\"-96.8\" font-family=\"Times,serif\" font-size=\"14.00\">data &#45;6.0000</text>\n<polyline fill=\"none\" stroke=\"black\" points=\"863,-82.5 863,-118.5 \"/>\n<text text-anchor=\"middle\" x=\"904\" y=\"-96.8\" font-family=\"Times,serif\" font-size=\"14.00\">grad 0.0000</text>\n</g>\n<!-- 139638183122384&#45;&gt;139638183122432+ -->\n<g id=\"edge12\" class=\"edge\">\n<title>139638183122384&#45;&gt;139638183122432+</title>\n<path fill=\"none\" stroke=\"black\" d=\"M941.24,-118.51C952.12,-120 962.4,-121.4 971.45,-122.64\"/>\n<polygon fill=\"black\" stroke=\"black\" points=\"971.11,-126.13 981.49,-124.01 972.05,-119.19 971.11,-126.13\"/>\n</g>\n<!-- 139638183122384+&#45;&gt;139638183122384 -->\n<g id=\"edge4\" class=\"edge\">\n<title>139638183122384+&#45;&gt;139638183122384</title>\n<path fill=\"none\" stroke=\"black\" d=\"M636.23,-100.5C643.7,-100.5 652.41,-100.5 661.87,-100.5\"/>\n<polygon fill=\"black\" stroke=\"black\" points=\"661.98,-104 671.98,-100.5 661.98,-97 661.98,-104\"/>\n</g>\n<!-- 139638183129056 -->\n<g id=\"node13\" class=\"node\">\n<title>139638183129056</title>\n<polygon fill=\"none\" stroke=\"black\" points=\"4,-110.5 4,-146.5 196,-146.5 196,-110.5 4,-110.5\"/>\n<text text-anchor=\"middle\" x=\"19\" y=\"-124.8\" font-family=\"Times,serif\" font-size=\"14.00\">x1</text>\n<polyline fill=\"none\" stroke=\"black\" points=\"34,-110.5 34,-146.5 \"/>\n<text text-anchor=\"middle\" x=\"74\" y=\"-124.8\" font-family=\"Times,serif\" font-size=\"14.00\">data 2.0000</text>\n<polyline fill=\"none\" stroke=\"black\" points=\"114,-110.5 114,-146.5 \"/>\n<text text-anchor=\"middle\" x=\"155\" y=\"-124.8\" font-family=\"Times,serif\" font-size=\"14.00\">grad 0.0000</text>\n</g>\n<!-- 139638183129056&#45;&gt;139638183127040* -->\n<g id=\"edge8\" class=\"edge\">\n<title>139638183129056&#45;&gt;139638183127040*</title>\n<path fill=\"none\" stroke=\"black\" d=\"M196.05,-128.5C206.52,-128.5 216.65,-128.5 225.71,-128.5\"/>\n<polygon fill=\"black\" stroke=\"black\" points=\"225.79,-132 235.79,-128.5 225.79,-125 225.79,-132\"/>\n</g>\n<!-- 139638183121904 -->\n<g id=\"node14\" class=\"node\">\n<title>139638183121904</title>\n<polygon fill=\"none\" stroke=\"black\" points=\"328.5,-55.5 328.5,-91.5 543.5,-91.5 543.5,-55.5 328.5,-55.5\"/>\n<text text-anchor=\"middle\" x=\"355\" y=\"-69.8\" font-family=\"Times,serif\" font-size=\"14.00\">x2*w2</text>\n<polyline fill=\"none\" stroke=\"black\" points=\"381.5,-55.5 381.5,-91.5 \"/>\n<text text-anchor=\"middle\" x=\"421.5\" y=\"-69.8\" font-family=\"Times,serif\" font-size=\"14.00\">data 0.0000</text>\n<polyline fill=\"none\" stroke=\"black\" points=\"461.5,-55.5 461.5,-91.5 \"/>\n<text text-anchor=\"middle\" x=\"502.5\" y=\"-69.8\" font-family=\"Times,serif\" font-size=\"14.00\">grad 0.0000</text>\n</g>\n<!-- 139638183121904&#45;&gt;139638183122384+ -->\n<g id=\"edge13\" class=\"edge\">\n<title>139638183121904&#45;&gt;139638183122384+</title>\n<path fill=\"none\" stroke=\"black\" d=\"M543.84,-90.37C554.01,-91.98 563.76,-93.51 572.44,-94.89\"/>\n<polygon fill=\"black\" stroke=\"black\" points=\"572.05,-98.37 582.47,-96.47 573.14,-91.45 572.05,-98.37\"/>\n</g>\n<!-- 139638183121904*&#45;&gt;139638183121904 -->\n<g id=\"edge5\" class=\"edge\">\n<title>139638183121904*&#45;&gt;139638183121904</title>\n<path fill=\"none\" stroke=\"black\" d=\"M290.34,-73.5C298.51,-73.5 308.08,-73.5 318.36,-73.5\"/>\n<polygon fill=\"black\" stroke=\"black\" points=\"318.39,-77 328.39,-73.5 318.39,-70 318.39,-77\"/>\n</g>\n</g>\n</svg>\n",
            "text/plain": [
              "<graphviz.graphs.Digraph at 0x7f000c4d5c60>"
            ]
          },
          "metadata": {},
          "execution_count": 52
        }
      ]
    },
    {
      "cell_type": "code",
      "source": [
        "## MANUAL BACKPROP\n",
        "\n",
        "o.grad = 1.0\n",
        "n.grad = 0.501\n",
        "b.grad = 0.501\n",
        "x1w1x2w2.grad = 0.501\n",
        "x2w2.grad = 0.501\n",
        "x1w1.grad = 0.501\n",
        "x2.grad = 0.501\n",
        "w2.grad = 0\n",
        "x1.grad = -1.5\n",
        "w1.grad = 1.0\n",
        "draw_dot(o)\n",
        "\n"
      ],
      "metadata": {
        "colab": {
          "base_uri": "https://localhost:8080/",
          "height": 321
        },
        "id": "jTyPGDgAaV41",
        "outputId": "7d910f92-55d4-4888-ffbe-7b0e5798ea51"
      },
      "execution_count": 53,
      "outputs": [
        {
          "output_type": "execute_result",
          "data": {
            "image/svg+xml": "<?xml version=\"1.0\" encoding=\"UTF-8\" standalone=\"no\"?>\n<!DOCTYPE svg PUBLIC \"-//W3C//DTD SVG 1.1//EN\"\n \"http://www.w3.org/Graphics/SVG/1.1/DTD/svg11.dtd\">\n<!-- Generated by graphviz version 2.43.0 (0)\n -->\n<!-- Title: %3 Pages: 1 -->\n<svg width=\"1575pt\" height=\"210pt\"\n viewBox=\"0.00 0.00 1575.00 210.00\" xmlns=\"http://www.w3.org/2000/svg\" xmlns:xlink=\"http://www.w3.org/1999/xlink\">\n<g id=\"graph0\" class=\"graph\" transform=\"scale(1 1) rotate(0) translate(4 206)\">\n<title>%3</title>\n<polygon fill=\"white\" stroke=\"transparent\" points=\"-4,4 -4,-206 1571,-206 1571,4 -4,4\"/>\n<!-- 139638183122432 -->\n<g id=\"node1\" class=\"node\">\n<title>139638183122432</title>\n<polygon fill=\"none\" stroke=\"black\" points=\"1071,-109.5 1071,-145.5 1256,-145.5 1256,-109.5 1071,-109.5\"/>\n<text text-anchor=\"middle\" x=\"1082.5\" y=\"-123.8\" font-family=\"Times,serif\" font-size=\"14.00\">n</text>\n<polyline fill=\"none\" stroke=\"black\" points=\"1094,-109.5 1094,-145.5 \"/>\n<text text-anchor=\"middle\" x=\"1134\" y=\"-123.8\" font-family=\"Times,serif\" font-size=\"14.00\">data 0.8800</text>\n<polyline fill=\"none\" stroke=\"black\" points=\"1174,-109.5 1174,-145.5 \"/>\n<text text-anchor=\"middle\" x=\"1215\" y=\"-123.8\" font-family=\"Times,serif\" font-size=\"14.00\">grad 0.5010</text>\n</g>\n<!-- 139638183133040tanh -->\n<g id=\"node8\" class=\"node\">\n<title>139638183133040tanh</title>\n<ellipse fill=\"none\" stroke=\"black\" cx=\"1319\" cy=\"-127.5\" rx=\"27\" ry=\"18\"/>\n<text text-anchor=\"middle\" x=\"1319\" y=\"-123.8\" font-family=\"Times,serif\" font-size=\"14.00\">tanh</text>\n</g>\n<!-- 139638183122432&#45;&gt;139638183133040tanh -->\n<g id=\"edge11\" class=\"edge\">\n<title>139638183122432&#45;&gt;139638183133040tanh</title>\n<path fill=\"none\" stroke=\"black\" d=\"M1256.01,-127.5C1265.01,-127.5 1273.74,-127.5 1281.66,-127.5\"/>\n<polygon fill=\"black\" stroke=\"black\" points=\"1281.91,-131 1291.91,-127.5 1281.91,-124 1281.91,-131\"/>\n</g>\n<!-- 139638183122432+ -->\n<g id=\"node2\" class=\"node\">\n<title>139638183122432+</title>\n<ellipse fill=\"none\" stroke=\"black\" cx=\"1008\" cy=\"-127.5\" rx=\"27\" ry=\"18\"/>\n<text text-anchor=\"middle\" x=\"1008\" y=\"-123.8\" font-family=\"Times,serif\" font-size=\"14.00\">+</text>\n</g>\n<!-- 139638183122432+&#45;&gt;139638183122432 -->\n<g id=\"edge1\" class=\"edge\">\n<title>139638183122432+&#45;&gt;139638183122432</title>\n<path fill=\"none\" stroke=\"black\" d=\"M1035.04,-127.5C1042.58,-127.5 1051.3,-127.5 1060.57,-127.5\"/>\n<polygon fill=\"black\" stroke=\"black\" points=\"1060.81,-131 1070.81,-127.5 1060.81,-124 1060.81,-131\"/>\n</g>\n<!-- 139638183127040 -->\n<g id=\"node3\" class=\"node\">\n<title>139638183127040</title>\n<polygon fill=\"none\" stroke=\"black\" points=\"326,-110.5 326,-146.5 546,-146.5 546,-110.5 326,-110.5\"/>\n<text text-anchor=\"middle\" x=\"352.5\" y=\"-124.8\" font-family=\"Times,serif\" font-size=\"14.00\">x1*w1</text>\n<polyline fill=\"none\" stroke=\"black\" points=\"379,-110.5 379,-146.5 \"/>\n<text text-anchor=\"middle\" x=\"421.5\" y=\"-124.8\" font-family=\"Times,serif\" font-size=\"14.00\">data &#45;6.0000</text>\n<polyline fill=\"none\" stroke=\"black\" points=\"464,-110.5 464,-146.5 \"/>\n<text text-anchor=\"middle\" x=\"505\" y=\"-124.8\" font-family=\"Times,serif\" font-size=\"14.00\">grad 0.5010</text>\n</g>\n<!-- 139638183122384+ -->\n<g id=\"node12\" class=\"node\">\n<title>139638183122384+</title>\n<ellipse fill=\"none\" stroke=\"black\" cx=\"609\" cy=\"-100.5\" rx=\"27\" ry=\"18\"/>\n<text text-anchor=\"middle\" x=\"609\" y=\"-96.8\" font-family=\"Times,serif\" font-size=\"14.00\">+</text>\n</g>\n<!-- 139638183127040&#45;&gt;139638183122384+ -->\n<g id=\"edge10\" class=\"edge\">\n<title>139638183127040&#45;&gt;139638183122384+</title>\n<path fill=\"none\" stroke=\"black\" d=\"M546.27,-110.61C555.64,-109.07 564.6,-107.61 572.65,-106.29\"/>\n<polygon fill=\"black\" stroke=\"black\" points=\"573.35,-109.72 582.65,-104.65 572.22,-102.81 573.35,-109.72\"/>\n</g>\n<!-- 139638183127040* -->\n<g id=\"node4\" class=\"node\">\n<title>139638183127040*</title>\n<ellipse fill=\"none\" stroke=\"black\" cx=\"263\" cy=\"-128.5\" rx=\"27\" ry=\"18\"/>\n<text text-anchor=\"middle\" x=\"263\" y=\"-124.8\" font-family=\"Times,serif\" font-size=\"14.00\">*</text>\n</g>\n<!-- 139638183127040*&#45;&gt;139638183127040 -->\n<g id=\"edge2\" class=\"edge\">\n<title>139638183127040*&#45;&gt;139638183127040</title>\n<path fill=\"none\" stroke=\"black\" d=\"M290.34,-128.5C297.77,-128.5 306.37,-128.5 315.6,-128.5\"/>\n<polygon fill=\"black\" stroke=\"black\" points=\"315.84,-132 325.84,-128.5 315.84,-125 315.84,-132\"/>\n</g>\n<!-- 139638183121376 -->\n<g id=\"node5\" class=\"node\">\n<title>139638183121376</title>\n<polygon fill=\"none\" stroke=\"black\" points=\"716,-137.5 716,-173.5 901,-173.5 901,-137.5 716,-137.5\"/>\n<text text-anchor=\"middle\" x=\"727.5\" y=\"-151.8\" font-family=\"Times,serif\" font-size=\"14.00\">b</text>\n<polyline fill=\"none\" stroke=\"black\" points=\"739,-137.5 739,-173.5 \"/>\n<text text-anchor=\"middle\" x=\"779\" y=\"-151.8\" font-family=\"Times,serif\" font-size=\"14.00\">data 6.8800</text>\n<polyline fill=\"none\" stroke=\"black\" points=\"819,-137.5 819,-173.5 \"/>\n<text text-anchor=\"middle\" x=\"860\" y=\"-151.8\" font-family=\"Times,serif\" font-size=\"14.00\">grad 0.5010</text>\n</g>\n<!-- 139638183121376&#45;&gt;139638183122432+ -->\n<g id=\"edge14\" class=\"edge\">\n<title>139638183121376&#45;&gt;139638183122432+</title>\n<path fill=\"none\" stroke=\"black\" d=\"M901.02,-142.52C926,-138.98 951.59,-135.36 971.37,-132.55\"/>\n<polygon fill=\"black\" stroke=\"black\" points=\"972.03,-135.99 981.43,-131.12 971.04,-129.06 972.03,-135.99\"/>\n</g>\n<!-- 139638183124832 -->\n<g id=\"node6\" class=\"node\">\n<title>139638183124832</title>\n<polygon fill=\"none\" stroke=\"black\" points=\"4,-55.5 4,-91.5 196,-91.5 196,-55.5 4,-55.5\"/>\n<text text-anchor=\"middle\" x=\"19\" y=\"-69.8\" font-family=\"Times,serif\" font-size=\"14.00\">x2</text>\n<polyline fill=\"none\" stroke=\"black\" points=\"34,-55.5 34,-91.5 \"/>\n<text text-anchor=\"middle\" x=\"74\" y=\"-69.8\" font-family=\"Times,serif\" font-size=\"14.00\">data 0.0000</text>\n<polyline fill=\"none\" stroke=\"black\" points=\"114,-55.5 114,-91.5 \"/>\n<text text-anchor=\"middle\" x=\"155\" y=\"-69.8\" font-family=\"Times,serif\" font-size=\"14.00\">grad 0.5010</text>\n</g>\n<!-- 139638183121904* -->\n<g id=\"node15\" class=\"node\">\n<title>139638183121904*</title>\n<ellipse fill=\"none\" stroke=\"black\" cx=\"263\" cy=\"-73.5\" rx=\"27\" ry=\"18\"/>\n<text text-anchor=\"middle\" x=\"263\" y=\"-69.8\" font-family=\"Times,serif\" font-size=\"14.00\">*</text>\n</g>\n<!-- 139638183124832&#45;&gt;139638183121904* -->\n<g id=\"edge6\" class=\"edge\">\n<title>139638183124832&#45;&gt;139638183121904*</title>\n<path fill=\"none\" stroke=\"black\" d=\"M196.05,-73.5C206.52,-73.5 216.65,-73.5 225.71,-73.5\"/>\n<polygon fill=\"black\" stroke=\"black\" points=\"225.79,-77 235.79,-73.5 225.79,-70 225.79,-77\"/>\n</g>\n<!-- 139638183133040 -->\n<g id=\"node7\" class=\"node\">\n<title>139638183133040</title>\n<polygon fill=\"none\" stroke=\"black\" points=\"1382,-109.5 1382,-145.5 1567,-145.5 1567,-109.5 1382,-109.5\"/>\n<text text-anchor=\"middle\" x=\"1393.5\" y=\"-123.8\" font-family=\"Times,serif\" font-size=\"14.00\">o</text>\n<polyline fill=\"none\" stroke=\"black\" points=\"1405,-109.5 1405,-145.5 \"/>\n<text text-anchor=\"middle\" x=\"1445\" y=\"-123.8\" font-family=\"Times,serif\" font-size=\"14.00\">data 0.7064</text>\n<polyline fill=\"none\" stroke=\"black\" points=\"1485,-109.5 1485,-145.5 \"/>\n<text text-anchor=\"middle\" x=\"1526\" y=\"-123.8\" font-family=\"Times,serif\" font-size=\"14.00\">grad 1.0000</text>\n</g>\n<!-- 139638183133040tanh&#45;&gt;139638183133040 -->\n<g id=\"edge3\" class=\"edge\">\n<title>139638183133040tanh&#45;&gt;139638183133040</title>\n<path fill=\"none\" stroke=\"black\" d=\"M1346.04,-127.5C1353.58,-127.5 1362.3,-127.5 1371.57,-127.5\"/>\n<polygon fill=\"black\" stroke=\"black\" points=\"1371.81,-131 1381.81,-127.5 1371.81,-124 1371.81,-131\"/>\n</g>\n<!-- 139638183129440 -->\n<g id=\"node9\" class=\"node\">\n<title>139638183129440</title>\n<polygon fill=\"none\" stroke=\"black\" points=\"2.5,-0.5 2.5,-36.5 197.5,-36.5 197.5,-0.5 2.5,-0.5\"/>\n<text text-anchor=\"middle\" x=\"19\" y=\"-14.8\" font-family=\"Times,serif\" font-size=\"14.00\">w2</text>\n<polyline fill=\"none\" stroke=\"black\" points=\"35.5,-0.5 35.5,-36.5 \"/>\n<text text-anchor=\"middle\" x=\"75.5\" y=\"-14.8\" font-family=\"Times,serif\" font-size=\"14.00\">data 1.0000</text>\n<polyline fill=\"none\" stroke=\"black\" points=\"115.5,-0.5 115.5,-36.5 \"/>\n<text text-anchor=\"middle\" x=\"156.5\" y=\"-14.8\" font-family=\"Times,serif\" font-size=\"14.00\">grad 0.0000</text>\n</g>\n<!-- 139638183129440&#45;&gt;139638183121904* -->\n<g id=\"edge7\" class=\"edge\">\n<title>139638183129440&#45;&gt;139638183121904*</title>\n<path fill=\"none\" stroke=\"black\" d=\"M169.28,-36.5C179.65,-39.61 190.16,-42.98 200,-46.5 210.28,-50.17 221.28,-54.74 231.11,-59.07\"/>\n<polygon fill=\"black\" stroke=\"black\" points=\"229.93,-62.37 240.48,-63.27 232.79,-55.99 229.93,-62.37\"/>\n</g>\n<!-- 139638183129008 -->\n<g id=\"node10\" class=\"node\">\n<title>139638183129008</title>\n<polygon fill=\"none\" stroke=\"black\" points=\"0,-165.5 0,-201.5 200,-201.5 200,-165.5 0,-165.5\"/>\n<text text-anchor=\"middle\" x=\"16.5\" y=\"-179.8\" font-family=\"Times,serif\" font-size=\"14.00\">w1</text>\n<polyline fill=\"none\" stroke=\"black\" points=\"33,-165.5 33,-201.5 \"/>\n<text text-anchor=\"middle\" x=\"75.5\" y=\"-179.8\" font-family=\"Times,serif\" font-size=\"14.00\">data &#45;3.0000</text>\n<polyline fill=\"none\" stroke=\"black\" points=\"118,-165.5 118,-201.5 \"/>\n<text text-anchor=\"middle\" x=\"159\" y=\"-179.8\" font-family=\"Times,serif\" font-size=\"14.00\">grad 1.0000</text>\n</g>\n<!-- 139638183129008&#45;&gt;139638183127040* -->\n<g id=\"edge9\" class=\"edge\">\n<title>139638183129008&#45;&gt;139638183127040*</title>\n<path fill=\"none\" stroke=\"black\" d=\"M172.53,-165.44C181.84,-162.67 191.2,-159.67 200,-156.5 210.53,-152.71 221.75,-147.9 231.72,-143.33\"/>\n<polygon fill=\"black\" stroke=\"black\" points=\"233.25,-146.48 240.82,-139.07 230.28,-140.14 233.25,-146.48\"/>\n</g>\n<!-- 139638183122384 -->\n<g id=\"node11\" class=\"node\">\n<title>139638183122384</title>\n<polygon fill=\"none\" stroke=\"black\" points=\"672,-82.5 672,-118.5 945,-118.5 945,-82.5 672,-82.5\"/>\n<text text-anchor=\"middle\" x=\"725\" y=\"-96.8\" font-family=\"Times,serif\" font-size=\"14.00\">x1*w1 + x2*w2</text>\n<polyline fill=\"none\" stroke=\"black\" points=\"778,-82.5 778,-118.5 \"/>\n<text text-anchor=\"middle\" x=\"820.5\" y=\"-96.8\" font-family=\"Times,serif\" font-size=\"14.00\">data &#45;6.0000</text>\n<polyline fill=\"none\" stroke=\"black\" points=\"863,-82.5 863,-118.5 \"/>\n<text text-anchor=\"middle\" x=\"904\" y=\"-96.8\" font-family=\"Times,serif\" font-size=\"14.00\">grad 0.5010</text>\n</g>\n<!-- 139638183122384&#45;&gt;139638183122432+ -->\n<g id=\"edge12\" class=\"edge\">\n<title>139638183122384&#45;&gt;139638183122432+</title>\n<path fill=\"none\" stroke=\"black\" d=\"M941.24,-118.51C952.12,-120 962.4,-121.4 971.45,-122.64\"/>\n<polygon fill=\"black\" stroke=\"black\" points=\"971.11,-126.13 981.49,-124.01 972.05,-119.19 971.11,-126.13\"/>\n</g>\n<!-- 139638183122384+&#45;&gt;139638183122384 -->\n<g id=\"edge4\" class=\"edge\">\n<title>139638183122384+&#45;&gt;139638183122384</title>\n<path fill=\"none\" stroke=\"black\" d=\"M636.23,-100.5C643.7,-100.5 652.41,-100.5 661.87,-100.5\"/>\n<polygon fill=\"black\" stroke=\"black\" points=\"661.98,-104 671.98,-100.5 661.98,-97 661.98,-104\"/>\n</g>\n<!-- 139638183129056 -->\n<g id=\"node13\" class=\"node\">\n<title>139638183129056</title>\n<polygon fill=\"none\" stroke=\"black\" points=\"2,-110.5 2,-146.5 198,-146.5 198,-110.5 2,-110.5\"/>\n<text text-anchor=\"middle\" x=\"17\" y=\"-124.8\" font-family=\"Times,serif\" font-size=\"14.00\">x1</text>\n<polyline fill=\"none\" stroke=\"black\" points=\"32,-110.5 32,-146.5 \"/>\n<text text-anchor=\"middle\" x=\"72\" y=\"-124.8\" font-family=\"Times,serif\" font-size=\"14.00\">data 2.0000</text>\n<polyline fill=\"none\" stroke=\"black\" points=\"112,-110.5 112,-146.5 \"/>\n<text text-anchor=\"middle\" x=\"155\" y=\"-124.8\" font-family=\"Times,serif\" font-size=\"14.00\">grad &#45;1.5000</text>\n</g>\n<!-- 139638183129056&#45;&gt;139638183127040* -->\n<g id=\"edge8\" class=\"edge\">\n<title>139638183129056&#45;&gt;139638183127040*</title>\n<path fill=\"none\" stroke=\"black\" d=\"M198.37,-128.5C208.05,-128.5 217.4,-128.5 225.8,-128.5\"/>\n<polygon fill=\"black\" stroke=\"black\" points=\"225.91,-132 235.91,-128.5 225.91,-125 225.91,-132\"/>\n</g>\n<!-- 139638183121904 -->\n<g id=\"node14\" class=\"node\">\n<title>139638183121904</title>\n<polygon fill=\"none\" stroke=\"black\" points=\"328.5,-55.5 328.5,-91.5 543.5,-91.5 543.5,-55.5 328.5,-55.5\"/>\n<text text-anchor=\"middle\" x=\"355\" y=\"-69.8\" font-family=\"Times,serif\" font-size=\"14.00\">x2*w2</text>\n<polyline fill=\"none\" stroke=\"black\" points=\"381.5,-55.5 381.5,-91.5 \"/>\n<text text-anchor=\"middle\" x=\"421.5\" y=\"-69.8\" font-family=\"Times,serif\" font-size=\"14.00\">data 0.0000</text>\n<polyline fill=\"none\" stroke=\"black\" points=\"461.5,-55.5 461.5,-91.5 \"/>\n<text text-anchor=\"middle\" x=\"502.5\" y=\"-69.8\" font-family=\"Times,serif\" font-size=\"14.00\">grad 0.5010</text>\n</g>\n<!-- 139638183121904&#45;&gt;139638183122384+ -->\n<g id=\"edge13\" class=\"edge\">\n<title>139638183121904&#45;&gt;139638183122384+</title>\n<path fill=\"none\" stroke=\"black\" d=\"M543.84,-90.37C554.01,-91.98 563.76,-93.51 572.44,-94.89\"/>\n<polygon fill=\"black\" stroke=\"black\" points=\"572.05,-98.37 582.47,-96.47 573.14,-91.45 572.05,-98.37\"/>\n</g>\n<!-- 139638183121904*&#45;&gt;139638183121904 -->\n<g id=\"edge5\" class=\"edge\">\n<title>139638183121904*&#45;&gt;139638183121904</title>\n<path fill=\"none\" stroke=\"black\" d=\"M290.34,-73.5C298.51,-73.5 308.08,-73.5 318.36,-73.5\"/>\n<polygon fill=\"black\" stroke=\"black\" points=\"318.39,-77 328.39,-73.5 318.39,-70 318.39,-77\"/>\n</g>\n</g>\n</svg>\n",
            "text/plain": [
              "<graphviz.graphs.Digraph at 0x7f000c4d4400>"
            ]
          },
          "metadata": {},
          "execution_count": 53
        }
      ]
    },
    {
      "cell_type": "code",
      "source": [
        "## AUTOMATIC BACKPROP\n",
        "o.grad = 1.0\n",
        "o._backward()\n",
        "n._backward()\n",
        "x1w1x2w2._backward()\n",
        "x1w1._backward()\n",
        "x2w2._backward()\n",
        "\n",
        "draw_dot(o) # This will be the back propogation :)\n",
        "\n"
      ],
      "metadata": {
        "colab": {
          "base_uri": "https://localhost:8080/",
          "height": 321
        },
        "id": "A4lqSn4GHnAx",
        "outputId": "7f78776d-3a68-48fa-835e-c1f67af24161"
      },
      "execution_count": 54,
      "outputs": [
        {
          "output_type": "execute_result",
          "data": {
            "image/svg+xml": "<?xml version=\"1.0\" encoding=\"UTF-8\" standalone=\"no\"?>\n<!DOCTYPE svg PUBLIC \"-//W3C//DTD SVG 1.1//EN\"\n \"http://www.w3.org/Graphics/SVG/1.1/DTD/svg11.dtd\">\n<!-- Generated by graphviz version 2.43.0 (0)\n -->\n<!-- Title: %3 Pages: 1 -->\n<svg width=\"1575pt\" height=\"210pt\"\n viewBox=\"0.00 0.00 1575.00 210.00\" xmlns=\"http://www.w3.org/2000/svg\" xmlns:xlink=\"http://www.w3.org/1999/xlink\">\n<g id=\"graph0\" class=\"graph\" transform=\"scale(1 1) rotate(0) translate(4 206)\">\n<title>%3</title>\n<polygon fill=\"white\" stroke=\"transparent\" points=\"-4,4 -4,-206 1571,-206 1571,4 -4,4\"/>\n<!-- 139638183122432 -->\n<g id=\"node1\" class=\"node\">\n<title>139638183122432</title>\n<polygon fill=\"none\" stroke=\"black\" points=\"1071,-109.5 1071,-145.5 1256,-145.5 1256,-109.5 1071,-109.5\"/>\n<text text-anchor=\"middle\" x=\"1082.5\" y=\"-123.8\" font-family=\"Times,serif\" font-size=\"14.00\">n</text>\n<polyline fill=\"none\" stroke=\"black\" points=\"1094,-109.5 1094,-145.5 \"/>\n<text text-anchor=\"middle\" x=\"1134\" y=\"-123.8\" font-family=\"Times,serif\" font-size=\"14.00\">data 0.8800</text>\n<polyline fill=\"none\" stroke=\"black\" points=\"1174,-109.5 1174,-145.5 \"/>\n<text text-anchor=\"middle\" x=\"1215\" y=\"-123.8\" font-family=\"Times,serif\" font-size=\"14.00\">grad 1.0020</text>\n</g>\n<!-- 139638183133040tanh -->\n<g id=\"node8\" class=\"node\">\n<title>139638183133040tanh</title>\n<ellipse fill=\"none\" stroke=\"black\" cx=\"1319\" cy=\"-127.5\" rx=\"27\" ry=\"18\"/>\n<text text-anchor=\"middle\" x=\"1319\" y=\"-123.8\" font-family=\"Times,serif\" font-size=\"14.00\">tanh</text>\n</g>\n<!-- 139638183122432&#45;&gt;139638183133040tanh -->\n<g id=\"edge11\" class=\"edge\">\n<title>139638183122432&#45;&gt;139638183133040tanh</title>\n<path fill=\"none\" stroke=\"black\" d=\"M1256.01,-127.5C1265.01,-127.5 1273.74,-127.5 1281.66,-127.5\"/>\n<polygon fill=\"black\" stroke=\"black\" points=\"1281.91,-131 1291.91,-127.5 1281.91,-124 1281.91,-131\"/>\n</g>\n<!-- 139638183122432+ -->\n<g id=\"node2\" class=\"node\">\n<title>139638183122432+</title>\n<ellipse fill=\"none\" stroke=\"black\" cx=\"1008\" cy=\"-127.5\" rx=\"27\" ry=\"18\"/>\n<text text-anchor=\"middle\" x=\"1008\" y=\"-123.8\" font-family=\"Times,serif\" font-size=\"14.00\">+</text>\n</g>\n<!-- 139638183122432+&#45;&gt;139638183122432 -->\n<g id=\"edge1\" class=\"edge\">\n<title>139638183122432+&#45;&gt;139638183122432</title>\n<path fill=\"none\" stroke=\"black\" d=\"M1035.04,-127.5C1042.58,-127.5 1051.3,-127.5 1060.57,-127.5\"/>\n<polygon fill=\"black\" stroke=\"black\" points=\"1060.81,-131 1070.81,-127.5 1060.81,-124 1060.81,-131\"/>\n</g>\n<!-- 139638183127040 -->\n<g id=\"node3\" class=\"node\">\n<title>139638183127040</title>\n<polygon fill=\"none\" stroke=\"black\" points=\"326,-110.5 326,-146.5 546,-146.5 546,-110.5 326,-110.5\"/>\n<text text-anchor=\"middle\" x=\"352.5\" y=\"-124.8\" font-family=\"Times,serif\" font-size=\"14.00\">x1*w1</text>\n<polyline fill=\"none\" stroke=\"black\" points=\"379,-110.5 379,-146.5 \"/>\n<text text-anchor=\"middle\" x=\"421.5\" y=\"-124.8\" font-family=\"Times,serif\" font-size=\"14.00\">data &#45;6.0000</text>\n<polyline fill=\"none\" stroke=\"black\" points=\"464,-110.5 464,-146.5 \"/>\n<text text-anchor=\"middle\" x=\"505\" y=\"-124.8\" font-family=\"Times,serif\" font-size=\"14.00\">grad 2.0040</text>\n</g>\n<!-- 139638183122384+ -->\n<g id=\"node12\" class=\"node\">\n<title>139638183122384+</title>\n<ellipse fill=\"none\" stroke=\"black\" cx=\"609\" cy=\"-100.5\" rx=\"27\" ry=\"18\"/>\n<text text-anchor=\"middle\" x=\"609\" y=\"-96.8\" font-family=\"Times,serif\" font-size=\"14.00\">+</text>\n</g>\n<!-- 139638183127040&#45;&gt;139638183122384+ -->\n<g id=\"edge10\" class=\"edge\">\n<title>139638183127040&#45;&gt;139638183122384+</title>\n<path fill=\"none\" stroke=\"black\" d=\"M546.27,-110.61C555.64,-109.07 564.6,-107.61 572.65,-106.29\"/>\n<polygon fill=\"black\" stroke=\"black\" points=\"573.35,-109.72 582.65,-104.65 572.22,-102.81 573.35,-109.72\"/>\n</g>\n<!-- 139638183127040* -->\n<g id=\"node4\" class=\"node\">\n<title>139638183127040*</title>\n<ellipse fill=\"none\" stroke=\"black\" cx=\"263\" cy=\"-128.5\" rx=\"27\" ry=\"18\"/>\n<text text-anchor=\"middle\" x=\"263\" y=\"-124.8\" font-family=\"Times,serif\" font-size=\"14.00\">*</text>\n</g>\n<!-- 139638183127040*&#45;&gt;139638183127040 -->\n<g id=\"edge2\" class=\"edge\">\n<title>139638183127040*&#45;&gt;139638183127040</title>\n<path fill=\"none\" stroke=\"black\" d=\"M290.34,-128.5C297.77,-128.5 306.37,-128.5 315.6,-128.5\"/>\n<polygon fill=\"black\" stroke=\"black\" points=\"315.84,-132 325.84,-128.5 315.84,-125 315.84,-132\"/>\n</g>\n<!-- 139638183121376 -->\n<g id=\"node5\" class=\"node\">\n<title>139638183121376</title>\n<polygon fill=\"none\" stroke=\"black\" points=\"716,-137.5 716,-173.5 901,-173.5 901,-137.5 716,-137.5\"/>\n<text text-anchor=\"middle\" x=\"727.5\" y=\"-151.8\" font-family=\"Times,serif\" font-size=\"14.00\">b</text>\n<polyline fill=\"none\" stroke=\"black\" points=\"739,-137.5 739,-173.5 \"/>\n<text text-anchor=\"middle\" x=\"779\" y=\"-151.8\" font-family=\"Times,serif\" font-size=\"14.00\">data 6.8800</text>\n<polyline fill=\"none\" stroke=\"black\" points=\"819,-137.5 819,-173.5 \"/>\n<text text-anchor=\"middle\" x=\"860\" y=\"-151.8\" font-family=\"Times,serif\" font-size=\"14.00\">grad 1.5030</text>\n</g>\n<!-- 139638183121376&#45;&gt;139638183122432+ -->\n<g id=\"edge14\" class=\"edge\">\n<title>139638183121376&#45;&gt;139638183122432+</title>\n<path fill=\"none\" stroke=\"black\" d=\"M901.02,-142.52C926,-138.98 951.59,-135.36 971.37,-132.55\"/>\n<polygon fill=\"black\" stroke=\"black\" points=\"972.03,-135.99 981.43,-131.12 971.04,-129.06 972.03,-135.99\"/>\n</g>\n<!-- 139638183124832 -->\n<g id=\"node6\" class=\"node\">\n<title>139638183124832</title>\n<polygon fill=\"none\" stroke=\"black\" points=\"4,-55.5 4,-91.5 196,-91.5 196,-55.5 4,-55.5\"/>\n<text text-anchor=\"middle\" x=\"19\" y=\"-69.8\" font-family=\"Times,serif\" font-size=\"14.00\">x2</text>\n<polyline fill=\"none\" stroke=\"black\" points=\"34,-55.5 34,-91.5 \"/>\n<text text-anchor=\"middle\" x=\"74\" y=\"-69.8\" font-family=\"Times,serif\" font-size=\"14.00\">data 0.0000</text>\n<polyline fill=\"none\" stroke=\"black\" points=\"114,-55.5 114,-91.5 \"/>\n<text text-anchor=\"middle\" x=\"155\" y=\"-69.8\" font-family=\"Times,serif\" font-size=\"14.00\">grad 2.5050</text>\n</g>\n<!-- 139638183121904* -->\n<g id=\"node15\" class=\"node\">\n<title>139638183121904*</title>\n<ellipse fill=\"none\" stroke=\"black\" cx=\"263\" cy=\"-73.5\" rx=\"27\" ry=\"18\"/>\n<text text-anchor=\"middle\" x=\"263\" y=\"-69.8\" font-family=\"Times,serif\" font-size=\"14.00\">*</text>\n</g>\n<!-- 139638183124832&#45;&gt;139638183121904* -->\n<g id=\"edge6\" class=\"edge\">\n<title>139638183124832&#45;&gt;139638183121904*</title>\n<path fill=\"none\" stroke=\"black\" d=\"M196.05,-73.5C206.52,-73.5 216.65,-73.5 225.71,-73.5\"/>\n<polygon fill=\"black\" stroke=\"black\" points=\"225.79,-77 235.79,-73.5 225.79,-70 225.79,-77\"/>\n</g>\n<!-- 139638183133040 -->\n<g id=\"node7\" class=\"node\">\n<title>139638183133040</title>\n<polygon fill=\"none\" stroke=\"black\" points=\"1382,-109.5 1382,-145.5 1567,-145.5 1567,-109.5 1382,-109.5\"/>\n<text text-anchor=\"middle\" x=\"1393.5\" y=\"-123.8\" font-family=\"Times,serif\" font-size=\"14.00\">o</text>\n<polyline fill=\"none\" stroke=\"black\" points=\"1405,-109.5 1405,-145.5 \"/>\n<text text-anchor=\"middle\" x=\"1445\" y=\"-123.8\" font-family=\"Times,serif\" font-size=\"14.00\">data 0.7064</text>\n<polyline fill=\"none\" stroke=\"black\" points=\"1485,-109.5 1485,-145.5 \"/>\n<text text-anchor=\"middle\" x=\"1526\" y=\"-123.8\" font-family=\"Times,serif\" font-size=\"14.00\">grad 1.0000</text>\n</g>\n<!-- 139638183133040tanh&#45;&gt;139638183133040 -->\n<g id=\"edge3\" class=\"edge\">\n<title>139638183133040tanh&#45;&gt;139638183133040</title>\n<path fill=\"none\" stroke=\"black\" d=\"M1346.04,-127.5C1353.58,-127.5 1362.3,-127.5 1371.57,-127.5\"/>\n<polygon fill=\"black\" stroke=\"black\" points=\"1371.81,-131 1381.81,-127.5 1371.81,-124 1371.81,-131\"/>\n</g>\n<!-- 139638183129440 -->\n<g id=\"node9\" class=\"node\">\n<title>139638183129440</title>\n<polygon fill=\"none\" stroke=\"black\" points=\"2.5,-0.5 2.5,-36.5 197.5,-36.5 197.5,-0.5 2.5,-0.5\"/>\n<text text-anchor=\"middle\" x=\"19\" y=\"-14.8\" font-family=\"Times,serif\" font-size=\"14.00\">w2</text>\n<polyline fill=\"none\" stroke=\"black\" points=\"35.5,-0.5 35.5,-36.5 \"/>\n<text text-anchor=\"middle\" x=\"75.5\" y=\"-14.8\" font-family=\"Times,serif\" font-size=\"14.00\">data 1.0000</text>\n<polyline fill=\"none\" stroke=\"black\" points=\"115.5,-0.5 115.5,-36.5 \"/>\n<text text-anchor=\"middle\" x=\"156.5\" y=\"-14.8\" font-family=\"Times,serif\" font-size=\"14.00\">grad 0.0000</text>\n</g>\n<!-- 139638183129440&#45;&gt;139638183121904* -->\n<g id=\"edge7\" class=\"edge\">\n<title>139638183129440&#45;&gt;139638183121904*</title>\n<path fill=\"none\" stroke=\"black\" d=\"M169.28,-36.5C179.65,-39.61 190.16,-42.98 200,-46.5 210.28,-50.17 221.28,-54.74 231.11,-59.07\"/>\n<polygon fill=\"black\" stroke=\"black\" points=\"229.93,-62.37 240.48,-63.27 232.79,-55.99 229.93,-62.37\"/>\n</g>\n<!-- 139638183129008 -->\n<g id=\"node10\" class=\"node\">\n<title>139638183129008</title>\n<polygon fill=\"none\" stroke=\"black\" points=\"0,-165.5 0,-201.5 200,-201.5 200,-165.5 0,-165.5\"/>\n<text text-anchor=\"middle\" x=\"16.5\" y=\"-179.8\" font-family=\"Times,serif\" font-size=\"14.00\">w1</text>\n<polyline fill=\"none\" stroke=\"black\" points=\"33,-165.5 33,-201.5 \"/>\n<text text-anchor=\"middle\" x=\"75.5\" y=\"-179.8\" font-family=\"Times,serif\" font-size=\"14.00\">data &#45;3.0000</text>\n<polyline fill=\"none\" stroke=\"black\" points=\"118,-165.5 118,-201.5 \"/>\n<text text-anchor=\"middle\" x=\"159\" y=\"-179.8\" font-family=\"Times,serif\" font-size=\"14.00\">grad 5.0079</text>\n</g>\n<!-- 139638183129008&#45;&gt;139638183127040* -->\n<g id=\"edge9\" class=\"edge\">\n<title>139638183129008&#45;&gt;139638183127040*</title>\n<path fill=\"none\" stroke=\"black\" d=\"M172.53,-165.44C181.84,-162.67 191.2,-159.67 200,-156.5 210.53,-152.71 221.75,-147.9 231.72,-143.33\"/>\n<polygon fill=\"black\" stroke=\"black\" points=\"233.25,-146.48 240.82,-139.07 230.28,-140.14 233.25,-146.48\"/>\n</g>\n<!-- 139638183122384 -->\n<g id=\"node11\" class=\"node\">\n<title>139638183122384</title>\n<polygon fill=\"none\" stroke=\"black\" points=\"672,-82.5 672,-118.5 945,-118.5 945,-82.5 672,-82.5\"/>\n<text text-anchor=\"middle\" x=\"725\" y=\"-96.8\" font-family=\"Times,serif\" font-size=\"14.00\">x1*w1 + x2*w2</text>\n<polyline fill=\"none\" stroke=\"black\" points=\"778,-82.5 778,-118.5 \"/>\n<text text-anchor=\"middle\" x=\"820.5\" y=\"-96.8\" font-family=\"Times,serif\" font-size=\"14.00\">data &#45;6.0000</text>\n<polyline fill=\"none\" stroke=\"black\" points=\"863,-82.5 863,-118.5 \"/>\n<text text-anchor=\"middle\" x=\"904\" y=\"-96.8\" font-family=\"Times,serif\" font-size=\"14.00\">grad 1.5030</text>\n</g>\n<!-- 139638183122384&#45;&gt;139638183122432+ -->\n<g id=\"edge12\" class=\"edge\">\n<title>139638183122384&#45;&gt;139638183122432+</title>\n<path fill=\"none\" stroke=\"black\" d=\"M941.24,-118.51C952.12,-120 962.4,-121.4 971.45,-122.64\"/>\n<polygon fill=\"black\" stroke=\"black\" points=\"971.11,-126.13 981.49,-124.01 972.05,-119.19 971.11,-126.13\"/>\n</g>\n<!-- 139638183122384+&#45;&gt;139638183122384 -->\n<g id=\"edge4\" class=\"edge\">\n<title>139638183122384+&#45;&gt;139638183122384</title>\n<path fill=\"none\" stroke=\"black\" d=\"M636.23,-100.5C643.7,-100.5 652.41,-100.5 661.87,-100.5\"/>\n<polygon fill=\"black\" stroke=\"black\" points=\"661.98,-104 671.98,-100.5 661.98,-97 661.98,-104\"/>\n</g>\n<!-- 139638183129056 -->\n<g id=\"node13\" class=\"node\">\n<title>139638183129056</title>\n<polygon fill=\"none\" stroke=\"black\" points=\"2,-110.5 2,-146.5 198,-146.5 198,-110.5 2,-110.5\"/>\n<text text-anchor=\"middle\" x=\"17\" y=\"-124.8\" font-family=\"Times,serif\" font-size=\"14.00\">x1</text>\n<polyline fill=\"none\" stroke=\"black\" points=\"32,-110.5 32,-146.5 \"/>\n<text text-anchor=\"middle\" x=\"72\" y=\"-124.8\" font-family=\"Times,serif\" font-size=\"14.00\">data 2.0000</text>\n<polyline fill=\"none\" stroke=\"black\" points=\"112,-110.5 112,-146.5 \"/>\n<text text-anchor=\"middle\" x=\"155\" y=\"-124.8\" font-family=\"Times,serif\" font-size=\"14.00\">grad &#45;7.5119</text>\n</g>\n<!-- 139638183129056&#45;&gt;139638183127040* -->\n<g id=\"edge8\" class=\"edge\">\n<title>139638183129056&#45;&gt;139638183127040*</title>\n<path fill=\"none\" stroke=\"black\" d=\"M198.37,-128.5C208.05,-128.5 217.4,-128.5 225.8,-128.5\"/>\n<polygon fill=\"black\" stroke=\"black\" points=\"225.91,-132 235.91,-128.5 225.91,-125 225.91,-132\"/>\n</g>\n<!-- 139638183121904 -->\n<g id=\"node14\" class=\"node\">\n<title>139638183121904</title>\n<polygon fill=\"none\" stroke=\"black\" points=\"328.5,-55.5 328.5,-91.5 543.5,-91.5 543.5,-55.5 328.5,-55.5\"/>\n<text text-anchor=\"middle\" x=\"355\" y=\"-69.8\" font-family=\"Times,serif\" font-size=\"14.00\">x2*w2</text>\n<polyline fill=\"none\" stroke=\"black\" points=\"381.5,-55.5 381.5,-91.5 \"/>\n<text text-anchor=\"middle\" x=\"421.5\" y=\"-69.8\" font-family=\"Times,serif\" font-size=\"14.00\">data 0.0000</text>\n<polyline fill=\"none\" stroke=\"black\" points=\"461.5,-55.5 461.5,-91.5 \"/>\n<text text-anchor=\"middle\" x=\"502.5\" y=\"-69.8\" font-family=\"Times,serif\" font-size=\"14.00\">grad 2.0040</text>\n</g>\n<!-- 139638183121904&#45;&gt;139638183122384+ -->\n<g id=\"edge13\" class=\"edge\">\n<title>139638183121904&#45;&gt;139638183122384+</title>\n<path fill=\"none\" stroke=\"black\" d=\"M543.84,-90.37C554.01,-91.98 563.76,-93.51 572.44,-94.89\"/>\n<polygon fill=\"black\" stroke=\"black\" points=\"572.05,-98.37 582.47,-96.47 573.14,-91.45 572.05,-98.37\"/>\n</g>\n<!-- 139638183121904*&#45;&gt;139638183121904 -->\n<g id=\"edge5\" class=\"edge\">\n<title>139638183121904*&#45;&gt;139638183121904</title>\n<path fill=\"none\" stroke=\"black\" d=\"M290.34,-73.5C298.51,-73.5 308.08,-73.5 318.36,-73.5\"/>\n<polygon fill=\"black\" stroke=\"black\" points=\"318.39,-77 328.39,-73.5 318.39,-70 318.39,-77\"/>\n</g>\n</g>\n</svg>\n",
            "text/plain": [
              "<graphviz.graphs.Digraph at 0x7f000c4d66b0>"
            ]
          },
          "metadata": {},
          "execution_count": 54
        }
      ]
    },
    {
      "cell_type": "markdown",
      "source": [
        "To avoid calling the ._backward again and again we will use a topoloical sort.\n",
        "This will alow us to create a sequence of nodes that will respect theie dependencies. The topological sort is implemented in the class under the backward function."
      ],
      "metadata": {
        "id": "-ou30FwEe25_"
      }
    },
    {
      "cell_type": "code",
      "source": [
        "## AUTOMATIC BACKPROP WITHOUT CALLING _backward EVERYTIME\n",
        "o.backward()\n",
        "draw_dot(o)"
      ],
      "metadata": {
        "colab": {
          "base_uri": "https://localhost:8080/",
          "height": 321
        },
        "id": "CZ4wc0e0fkqe",
        "outputId": "742bc91d-0459-4ba6-c3e5-22c6ef2163bc"
      },
      "execution_count": 55,
      "outputs": [
        {
          "output_type": "execute_result",
          "data": {
            "image/svg+xml": "<?xml version=\"1.0\" encoding=\"UTF-8\" standalone=\"no\"?>\n<!DOCTYPE svg PUBLIC \"-//W3C//DTD SVG 1.1//EN\"\n \"http://www.w3.org/Graphics/SVG/1.1/DTD/svg11.dtd\">\n<!-- Generated by graphviz version 2.43.0 (0)\n -->\n<!-- Title: %3 Pages: 1 -->\n<svg width=\"1582pt\" height=\"210pt\"\n viewBox=\"0.00 0.00 1582.00 210.00\" xmlns=\"http://www.w3.org/2000/svg\" xmlns:xlink=\"http://www.w3.org/1999/xlink\">\n<g id=\"graph0\" class=\"graph\" transform=\"scale(1 1) rotate(0) translate(4 206)\">\n<title>%3</title>\n<polygon fill=\"white\" stroke=\"transparent\" points=\"-4,4 -4,-206 1578,-206 1578,4 -4,4\"/>\n<!-- 139638183122432 -->\n<g id=\"node1\" class=\"node\">\n<title>139638183122432</title>\n<polygon fill=\"none\" stroke=\"black\" points=\"1078,-109.5 1078,-145.5 1263,-145.5 1263,-109.5 1078,-109.5\"/>\n<text text-anchor=\"middle\" x=\"1089.5\" y=\"-123.8\" font-family=\"Times,serif\" font-size=\"14.00\">n</text>\n<polyline fill=\"none\" stroke=\"black\" points=\"1101,-109.5 1101,-145.5 \"/>\n<text text-anchor=\"middle\" x=\"1141\" y=\"-123.8\" font-family=\"Times,serif\" font-size=\"14.00\">data 0.8800</text>\n<polyline fill=\"none\" stroke=\"black\" points=\"1181,-109.5 1181,-145.5 \"/>\n<text text-anchor=\"middle\" x=\"1222\" y=\"-123.8\" font-family=\"Times,serif\" font-size=\"14.00\">grad 1.5029</text>\n</g>\n<!-- 139638183133040tanh -->\n<g id=\"node8\" class=\"node\">\n<title>139638183133040tanh</title>\n<ellipse fill=\"none\" stroke=\"black\" cx=\"1326\" cy=\"-127.5\" rx=\"27\" ry=\"18\"/>\n<text text-anchor=\"middle\" x=\"1326\" y=\"-123.8\" font-family=\"Times,serif\" font-size=\"14.00\">tanh</text>\n</g>\n<!-- 139638183122432&#45;&gt;139638183133040tanh -->\n<g id=\"edge11\" class=\"edge\">\n<title>139638183122432&#45;&gt;139638183133040tanh</title>\n<path fill=\"none\" stroke=\"black\" d=\"M1263.01,-127.5C1272.01,-127.5 1280.74,-127.5 1288.66,-127.5\"/>\n<polygon fill=\"black\" stroke=\"black\" points=\"1288.91,-131 1298.91,-127.5 1288.91,-124 1288.91,-131\"/>\n</g>\n<!-- 139638183122432+ -->\n<g id=\"node2\" class=\"node\">\n<title>139638183122432+</title>\n<ellipse fill=\"none\" stroke=\"black\" cx=\"1015\" cy=\"-127.5\" rx=\"27\" ry=\"18\"/>\n<text text-anchor=\"middle\" x=\"1015\" y=\"-123.8\" font-family=\"Times,serif\" font-size=\"14.00\">+</text>\n</g>\n<!-- 139638183122432+&#45;&gt;139638183122432 -->\n<g id=\"edge1\" class=\"edge\">\n<title>139638183122432+&#45;&gt;139638183122432</title>\n<path fill=\"none\" stroke=\"black\" d=\"M1042.04,-127.5C1049.58,-127.5 1058.3,-127.5 1067.57,-127.5\"/>\n<polygon fill=\"black\" stroke=\"black\" points=\"1067.81,-131 1077.81,-127.5 1067.81,-124 1067.81,-131\"/>\n</g>\n<!-- 139638183127040 -->\n<g id=\"node3\" class=\"node\">\n<title>139638183127040</title>\n<polygon fill=\"none\" stroke=\"black\" points=\"333,-110.5 333,-146.5 553,-146.5 553,-110.5 333,-110.5\"/>\n<text text-anchor=\"middle\" x=\"359.5\" y=\"-124.8\" font-family=\"Times,serif\" font-size=\"14.00\">x1*w1</text>\n<polyline fill=\"none\" stroke=\"black\" points=\"386,-110.5 386,-146.5 \"/>\n<text text-anchor=\"middle\" x=\"428.5\" y=\"-124.8\" font-family=\"Times,serif\" font-size=\"14.00\">data &#45;6.0000</text>\n<polyline fill=\"none\" stroke=\"black\" points=\"471,-110.5 471,-146.5 \"/>\n<text text-anchor=\"middle\" x=\"512\" y=\"-124.8\" font-family=\"Times,serif\" font-size=\"14.00\">grad 5.0099</text>\n</g>\n<!-- 139638183122384+ -->\n<g id=\"node12\" class=\"node\">\n<title>139638183122384+</title>\n<ellipse fill=\"none\" stroke=\"black\" cx=\"616\" cy=\"-100.5\" rx=\"27\" ry=\"18\"/>\n<text text-anchor=\"middle\" x=\"616\" y=\"-96.8\" font-family=\"Times,serif\" font-size=\"14.00\">+</text>\n</g>\n<!-- 139638183127040&#45;&gt;139638183122384+ -->\n<g id=\"edge10\" class=\"edge\">\n<title>139638183127040&#45;&gt;139638183122384+</title>\n<path fill=\"none\" stroke=\"black\" d=\"M553.27,-110.61C562.64,-109.07 571.6,-107.61 579.65,-106.29\"/>\n<polygon fill=\"black\" stroke=\"black\" points=\"580.35,-109.72 589.65,-104.65 579.22,-102.81 580.35,-109.72\"/>\n</g>\n<!-- 139638183127040* -->\n<g id=\"node4\" class=\"node\">\n<title>139638183127040*</title>\n<ellipse fill=\"none\" stroke=\"black\" cx=\"270\" cy=\"-128.5\" rx=\"27\" ry=\"18\"/>\n<text text-anchor=\"middle\" x=\"270\" y=\"-124.8\" font-family=\"Times,serif\" font-size=\"14.00\">*</text>\n</g>\n<!-- 139638183127040*&#45;&gt;139638183127040 -->\n<g id=\"edge2\" class=\"edge\">\n<title>139638183127040*&#45;&gt;139638183127040</title>\n<path fill=\"none\" stroke=\"black\" d=\"M297.34,-128.5C304.77,-128.5 313.37,-128.5 322.6,-128.5\"/>\n<polygon fill=\"black\" stroke=\"black\" points=\"322.84,-132 332.84,-128.5 322.84,-125 322.84,-132\"/>\n</g>\n<!-- 139638183121376 -->\n<g id=\"node5\" class=\"node\">\n<title>139638183121376</title>\n<polygon fill=\"none\" stroke=\"black\" points=\"723,-137.5 723,-173.5 908,-173.5 908,-137.5 723,-137.5\"/>\n<text text-anchor=\"middle\" x=\"734.5\" y=\"-151.8\" font-family=\"Times,serif\" font-size=\"14.00\">b</text>\n<polyline fill=\"none\" stroke=\"black\" points=\"746,-137.5 746,-173.5 \"/>\n<text text-anchor=\"middle\" x=\"786\" y=\"-151.8\" font-family=\"Times,serif\" font-size=\"14.00\">data 6.8800</text>\n<polyline fill=\"none\" stroke=\"black\" points=\"826,-137.5 826,-173.5 \"/>\n<text text-anchor=\"middle\" x=\"867\" y=\"-151.8\" font-family=\"Times,serif\" font-size=\"14.00\">grad 3.0059</text>\n</g>\n<!-- 139638183121376&#45;&gt;139638183122432+ -->\n<g id=\"edge14\" class=\"edge\">\n<title>139638183121376&#45;&gt;139638183122432+</title>\n<path fill=\"none\" stroke=\"black\" d=\"M908.02,-142.52C933,-138.98 958.59,-135.36 978.37,-132.55\"/>\n<polygon fill=\"black\" stroke=\"black\" points=\"979.03,-135.99 988.43,-131.12 978.04,-129.06 979.03,-135.99\"/>\n</g>\n<!-- 139638183124832 -->\n<g id=\"node6\" class=\"node\">\n<title>139638183124832</title>\n<polygon fill=\"none\" stroke=\"black\" points=\"7.5,-55.5 7.5,-91.5 199.5,-91.5 199.5,-55.5 7.5,-55.5\"/>\n<text text-anchor=\"middle\" x=\"22.5\" y=\"-69.8\" font-family=\"Times,serif\" font-size=\"14.00\">x2</text>\n<polyline fill=\"none\" stroke=\"black\" points=\"37.5,-55.5 37.5,-91.5 \"/>\n<text text-anchor=\"middle\" x=\"77.5\" y=\"-69.8\" font-family=\"Times,serif\" font-size=\"14.00\">data 0.0000</text>\n<polyline fill=\"none\" stroke=\"black\" points=\"117.5,-55.5 117.5,-91.5 \"/>\n<text text-anchor=\"middle\" x=\"158.5\" y=\"-69.8\" font-family=\"Times,serif\" font-size=\"14.00\">grad 7.5149</text>\n</g>\n<!-- 139638183121904* -->\n<g id=\"node15\" class=\"node\">\n<title>139638183121904*</title>\n<ellipse fill=\"none\" stroke=\"black\" cx=\"270\" cy=\"-73.5\" rx=\"27\" ry=\"18\"/>\n<text text-anchor=\"middle\" x=\"270\" y=\"-69.8\" font-family=\"Times,serif\" font-size=\"14.00\">*</text>\n</g>\n<!-- 139638183124832&#45;&gt;139638183121904* -->\n<g id=\"edge6\" class=\"edge\">\n<title>139638183124832&#45;&gt;139638183121904*</title>\n<path fill=\"none\" stroke=\"black\" d=\"M199.71,-73.5C211.3,-73.5 222.53,-73.5 232.46,-73.5\"/>\n<polygon fill=\"black\" stroke=\"black\" points=\"232.68,-77 242.68,-73.5 232.68,-70 232.68,-77\"/>\n</g>\n<!-- 139638183133040 -->\n<g id=\"node7\" class=\"node\">\n<title>139638183133040</title>\n<polygon fill=\"none\" stroke=\"black\" points=\"1389,-109.5 1389,-145.5 1574,-145.5 1574,-109.5 1389,-109.5\"/>\n<text text-anchor=\"middle\" x=\"1400.5\" y=\"-123.8\" font-family=\"Times,serif\" font-size=\"14.00\">o</text>\n<polyline fill=\"none\" stroke=\"black\" points=\"1412,-109.5 1412,-145.5 \"/>\n<text text-anchor=\"middle\" x=\"1452\" y=\"-123.8\" font-family=\"Times,serif\" font-size=\"14.00\">data 0.7064</text>\n<polyline fill=\"none\" stroke=\"black\" points=\"1492,-109.5 1492,-145.5 \"/>\n<text text-anchor=\"middle\" x=\"1533\" y=\"-123.8\" font-family=\"Times,serif\" font-size=\"14.00\">grad 1.0000</text>\n</g>\n<!-- 139638183133040tanh&#45;&gt;139638183133040 -->\n<g id=\"edge3\" class=\"edge\">\n<title>139638183133040tanh&#45;&gt;139638183133040</title>\n<path fill=\"none\" stroke=\"black\" d=\"M1353.04,-127.5C1360.58,-127.5 1369.3,-127.5 1378.57,-127.5\"/>\n<polygon fill=\"black\" stroke=\"black\" points=\"1378.81,-131 1388.81,-127.5 1378.81,-124 1378.81,-131\"/>\n</g>\n<!-- 139638183129440 -->\n<g id=\"node9\" class=\"node\">\n<title>139638183129440</title>\n<polygon fill=\"none\" stroke=\"black\" points=\"6,-0.5 6,-36.5 201,-36.5 201,-0.5 6,-0.5\"/>\n<text text-anchor=\"middle\" x=\"22.5\" y=\"-14.8\" font-family=\"Times,serif\" font-size=\"14.00\">w2</text>\n<polyline fill=\"none\" stroke=\"black\" points=\"39,-0.5 39,-36.5 \"/>\n<text text-anchor=\"middle\" x=\"79\" y=\"-14.8\" font-family=\"Times,serif\" font-size=\"14.00\">data 1.0000</text>\n<polyline fill=\"none\" stroke=\"black\" points=\"119,-0.5 119,-36.5 \"/>\n<text text-anchor=\"middle\" x=\"160\" y=\"-14.8\" font-family=\"Times,serif\" font-size=\"14.00\">grad 0.0000</text>\n</g>\n<!-- 139638183129440&#45;&gt;139638183121904* -->\n<g id=\"edge7\" class=\"edge\">\n<title>139638183129440&#45;&gt;139638183121904*</title>\n<path fill=\"none\" stroke=\"black\" d=\"M175.76,-36.54C186.31,-39.62 197,-42.98 207,-46.5 217.3,-50.13 228.3,-54.68 238.13,-59.01\"/>\n<polygon fill=\"black\" stroke=\"black\" points=\"236.94,-62.32 247.5,-63.23 239.81,-55.93 236.94,-62.32\"/>\n</g>\n<!-- 139638183129008 -->\n<g id=\"node10\" class=\"node\">\n<title>139638183129008</title>\n<polygon fill=\"none\" stroke=\"black\" points=\"0,-165.5 0,-201.5 207,-201.5 207,-165.5 0,-165.5\"/>\n<text text-anchor=\"middle\" x=\"16.5\" y=\"-179.8\" font-family=\"Times,serif\" font-size=\"14.00\">w1</text>\n<polyline fill=\"none\" stroke=\"black\" points=\"33,-165.5 33,-201.5 \"/>\n<text text-anchor=\"middle\" x=\"75.5\" y=\"-179.8\" font-family=\"Times,serif\" font-size=\"14.00\">data &#45;3.0000</text>\n<polyline fill=\"none\" stroke=\"black\" points=\"118,-165.5 118,-201.5 \"/>\n<text text-anchor=\"middle\" x=\"162.5\" y=\"-179.8\" font-family=\"Times,serif\" font-size=\"14.00\">grad 15.0277</text>\n</g>\n<!-- 139638183129008&#45;&gt;139638183127040* -->\n<g id=\"edge9\" class=\"edge\">\n<title>139638183129008&#45;&gt;139638183127040*</title>\n<path fill=\"none\" stroke=\"black\" d=\"M178.85,-165.48C188.4,-162.71 197.98,-159.7 207,-156.5 217.54,-152.76 228.77,-147.95 238.74,-143.38\"/>\n<polygon fill=\"black\" stroke=\"black\" points=\"240.27,-146.53 247.84,-139.11 237.3,-140.19 240.27,-146.53\"/>\n</g>\n<!-- 139638183122384 -->\n<g id=\"node11\" class=\"node\">\n<title>139638183122384</title>\n<polygon fill=\"none\" stroke=\"black\" points=\"679,-82.5 679,-118.5 952,-118.5 952,-82.5 679,-82.5\"/>\n<text text-anchor=\"middle\" x=\"732\" y=\"-96.8\" font-family=\"Times,serif\" font-size=\"14.00\">x1*w1 + x2*w2</text>\n<polyline fill=\"none\" stroke=\"black\" points=\"785,-82.5 785,-118.5 \"/>\n<text text-anchor=\"middle\" x=\"827.5\" y=\"-96.8\" font-family=\"Times,serif\" font-size=\"14.00\">data &#45;6.0000</text>\n<polyline fill=\"none\" stroke=\"black\" points=\"870,-82.5 870,-118.5 \"/>\n<text text-anchor=\"middle\" x=\"911\" y=\"-96.8\" font-family=\"Times,serif\" font-size=\"14.00\">grad 3.0059</text>\n</g>\n<!-- 139638183122384&#45;&gt;139638183122432+ -->\n<g id=\"edge12\" class=\"edge\">\n<title>139638183122384&#45;&gt;139638183122432+</title>\n<path fill=\"none\" stroke=\"black\" d=\"M948.24,-118.51C959.12,-120 969.4,-121.4 978.45,-122.64\"/>\n<polygon fill=\"black\" stroke=\"black\" points=\"978.11,-126.13 988.49,-124.01 979.05,-119.19 978.11,-126.13\"/>\n</g>\n<!-- 139638183122384+&#45;&gt;139638183122384 -->\n<g id=\"edge4\" class=\"edge\">\n<title>139638183122384+&#45;&gt;139638183122384</title>\n<path fill=\"none\" stroke=\"black\" d=\"M643.23,-100.5C650.7,-100.5 659.41,-100.5 668.87,-100.5\"/>\n<polygon fill=\"black\" stroke=\"black\" points=\"668.98,-104 678.98,-100.5 668.98,-97 668.98,-104\"/>\n</g>\n<!-- 139638183129056 -->\n<g id=\"node13\" class=\"node\">\n<title>139638183129056</title>\n<polygon fill=\"none\" stroke=\"black\" points=\"2,-110.5 2,-146.5 205,-146.5 205,-110.5 2,-110.5\"/>\n<text text-anchor=\"middle\" x=\"17\" y=\"-124.8\" font-family=\"Times,serif\" font-size=\"14.00\">x1</text>\n<polyline fill=\"none\" stroke=\"black\" points=\"32,-110.5 32,-146.5 \"/>\n<text text-anchor=\"middle\" x=\"72\" y=\"-124.8\" font-family=\"Times,serif\" font-size=\"14.00\">data 2.0000</text>\n<polyline fill=\"none\" stroke=\"black\" points=\"112,-110.5 112,-146.5 \"/>\n<text text-anchor=\"middle\" x=\"158.5\" y=\"-124.8\" font-family=\"Times,serif\" font-size=\"14.00\">grad &#45;22.5416</text>\n</g>\n<!-- 139638183129056&#45;&gt;139638183127040* -->\n<g id=\"edge8\" class=\"edge\">\n<title>139638183129056&#45;&gt;139638183127040*</title>\n<path fill=\"none\" stroke=\"black\" d=\"M205.4,-128.5C215.13,-128.5 224.49,-128.5 232.89,-128.5\"/>\n<polygon fill=\"black\" stroke=\"black\" points=\"232.99,-132 242.99,-128.5 232.99,-125 232.99,-132\"/>\n</g>\n<!-- 139638183121904 -->\n<g id=\"node14\" class=\"node\">\n<title>139638183121904</title>\n<polygon fill=\"none\" stroke=\"black\" points=\"335.5,-55.5 335.5,-91.5 550.5,-91.5 550.5,-55.5 335.5,-55.5\"/>\n<text text-anchor=\"middle\" x=\"362\" y=\"-69.8\" font-family=\"Times,serif\" font-size=\"14.00\">x2*w2</text>\n<polyline fill=\"none\" stroke=\"black\" points=\"388.5,-55.5 388.5,-91.5 \"/>\n<text text-anchor=\"middle\" x=\"428.5\" y=\"-69.8\" font-family=\"Times,serif\" font-size=\"14.00\">data 0.0000</text>\n<polyline fill=\"none\" stroke=\"black\" points=\"468.5,-55.5 468.5,-91.5 \"/>\n<text text-anchor=\"middle\" x=\"509.5\" y=\"-69.8\" font-family=\"Times,serif\" font-size=\"14.00\">grad 5.0099</text>\n</g>\n<!-- 139638183121904&#45;&gt;139638183122384+ -->\n<g id=\"edge13\" class=\"edge\">\n<title>139638183121904&#45;&gt;139638183122384+</title>\n<path fill=\"none\" stroke=\"black\" d=\"M550.84,-90.37C561.01,-91.98 570.76,-93.51 579.44,-94.89\"/>\n<polygon fill=\"black\" stroke=\"black\" points=\"579.05,-98.37 589.47,-96.47 580.14,-91.45 579.05,-98.37\"/>\n</g>\n<!-- 139638183121904*&#45;&gt;139638183121904 -->\n<g id=\"edge5\" class=\"edge\">\n<title>139638183121904*&#45;&gt;139638183121904</title>\n<path fill=\"none\" stroke=\"black\" d=\"M297.34,-73.5C305.51,-73.5 315.08,-73.5 325.36,-73.5\"/>\n<polygon fill=\"black\" stroke=\"black\" points=\"325.39,-77 335.39,-73.5 325.39,-70 325.39,-77\"/>\n</g>\n</g>\n</svg>\n",
            "text/plain": [
              "<graphviz.graphs.Digraph at 0x7f000c4d69e0>"
            ]
          },
          "metadata": {},
          "execution_count": 55
        }
      ]
    },
    {
      "cell_type": "markdown",
      "source": [
        "## Two Layer Multilayer Perceptron"
      ],
      "metadata": {
        "id": "oRyjOWWiJJpU"
      }
    },
    {
      "cell_type": "code",
      "source": [
        "class Neuron:\n",
        "\n",
        "  def __init__(self, nin):\n",
        "    self.w = [Value(random.uniform(-1,1)) for _ in range(nin)]\n",
        "    self.b = Value(random.uniform(-1,1))\n",
        "\n",
        "  def __call__(self, x):\n",
        "    act = sum((wi*xi for wi, xi in zip(self.w, x)), self.b)\n",
        "    out = act.tanh()\n",
        "    return out\n",
        "\n",
        "  def parameters(self):\n",
        "    return self.w + [self.b]\n",
        "\n",
        "class Layer:\n",
        "\n",
        "  def __init__(self, nin, nout):\n",
        "    self.neurons = [Neuron(nin) for _ in range(nout)]\n",
        "\n",
        "  def __call__(self, x):\n",
        "    outs = [n(x) for n in self.neurons]\n",
        "    return outs[0] if len(outs) == 1 else outs\n",
        "\n",
        "  def parameters(self):\n",
        "    return [p for neuron in self.neurons for p in neuron.parameters()]\n",
        "\n",
        "class MLP:\n",
        "\n",
        "  def __init__(self, nin, nouts):\n",
        "    sz = [nin] + nouts\n",
        "    self.layers = [Layer(sz[i], sz[i+1]) for i in range(len(nouts))]\n",
        "\n",
        "  def __call__(self, x):\n",
        "    for layer in self.layers:\n",
        "      x = layer(x)\n",
        "    return x\n",
        "\n",
        "  def parameters(self):\n",
        "    return [p for layer in self.layers for p in layer.parameters()]\n"
      ],
      "metadata": {
        "id": "ynESwyvMJREv"
      },
      "execution_count": 56,
      "outputs": []
    },
    {
      "cell_type": "markdown",
      "source": [
        "## Training the network with basic gradient descent on a sample data set with a L2 loss function"
      ],
      "metadata": {
        "id": "ipU22u4PgqHW"
      }
    },
    {
      "cell_type": "code",
      "source": [
        "\n",
        "n = MLP(3, [4, 4, 1])\n",
        "xs = [\n",
        "    [2.0, 3.0, -1.0],\n",
        "    [3.0, -1.0, 0.5],\n",
        "    [0.5, 1.0, 1.0],\n",
        "    [1.0, 1.0, -1.0],\n",
        "     ]\n",
        "ys = [1.0, -1.0, -1.0, 1.0]\n",
        "\n"
      ],
      "metadata": {
        "id": "pAW4LHa0patR"
      },
      "execution_count": 57,
      "outputs": []
    },
    {
      "cell_type": "code",
      "source": [
        "for k in range(1000):\n",
        "\n",
        "  # forward pass\n",
        "  ypred = [n(x) for x in xs]\n",
        "  loss = sum((yout - ygt)**2 for ygt, yout in zip(ys, ypred))\n",
        "\n",
        "  # backward pass\n",
        "  for p in n.parameters():\n",
        "    p.grad = 0.0\n",
        "  loss.backward()\n",
        "\n",
        "  # update\n",
        "  for p in n.parameters():\n",
        "    p.data += -0.1 * p.grad\n",
        "\n",
        "  #print(k, loss.data)\n",
        "print(f\"This the prediction of our nerual network {ypred}\")\n",
        "print(f\"This is what we wanted our output to look like {ys}\")"
      ],
      "metadata": {
        "colab": {
          "base_uri": "https://localhost:8080/"
        },
        "id": "LsU-sK6HiiTm",
        "outputId": "1bd0f5d9-e7e5-41b5-b474-a4e2066a9af7"
      },
      "execution_count": 65,
      "outputs": [
        {
          "output_type": "stream",
          "name": "stdout",
          "text": [
            "This the prediction of our nerual network [Value(data=0.997009121799269), Value(data=-0.996267092425084), Value(data=-0.9961581915397513), Value(data=0.9958644248357428)]\n",
            "This is what we wanted our output to look like [1.0, -1.0, -1.0, 1.0]\n"
          ]
        }
      ]
    }
  ]
}